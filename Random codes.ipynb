{
  "nbformat": 4,
  "nbformat_minor": 0,
  "metadata": {
    "colab": {
      "provenance": [],
      "authorship_tag": "ABX9TyMYIaH8F4Ns9ih6iqgg3h33",
      "include_colab_link": true
    },
    "kernelspec": {
      "name": "python3",
      "display_name": "Python 3"
    },
    "language_info": {
      "name": "python"
    }
  },
  "cells": [
    {
      "cell_type": "markdown",
      "metadata": {
        "id": "view-in-github",
        "colab_type": "text"
      },
      "source": [
        "<a href=\"https://colab.research.google.com/github/nitinkrishnan/Python-for-Data-Science/blob/main/Random%20codes.ipynb\" target=\"_parent\"><img src=\"https://colab.research.google.com/assets/colab-badge.svg\" alt=\"Open In Colab\"/></a>"
      ]
    },
    {
      "cell_type": "code",
      "execution_count": null,
      "metadata": {
        "id": "xm1f0h8RNYX4",
        "outputId": "f12391c4-078e-4365-d455-1a7a1114f824",
        "colab": {
          "base_uri": "https://localhost:8080/"
        }
      },
      "outputs": [
        {
          "output_type": "stream",
          "name": "stdout",
          "text": [
            "True\n",
            "True\n",
            "True\n",
            "False\n",
            "False\n",
            "True\n",
            "False\n",
            "False\n",
            "True\n",
            "False\n"
          ]
        }
      ],
      "source": [
        "#Python list and boolean Variables Inbuilt functions:\n",
        "\n",
        "my_name = 'Nithin'\n",
        "print(my_name.isalnum())\n",
        "#isalnum() - Returns True if all characters in the string are alphanumeric\n",
        "print(my_name.isalpha())\n",
        "#isalpha() - Returns True if all characters in the string are in the alphabet\n",
        "print(my_name.isascii())\n",
        "#isascii() - Returns True if all characters in the string are ascii characters\n",
        "print(my_name.isdecimal())\n",
        "#isdecimal() - Returns True if all characters in the string are decimals\n",
        "print(my_name.isdigit())\n",
        "#isdigit() - Returns True if all characters in the string are digits\n",
        "print(my_name.isidentifier())\n",
        "#isidentifier() - Returns True if the string is an identifier\n",
        "print(my_name.islower())\n",
        "#islower() - Returns True if all characters in the string are lower case\n",
        "print(my_name.isnumeric())\n",
        "#isnumeric() - Returns True if all characters in the string are numeric\n",
        "print(my_name.isprintable())\n",
        "#isprintable() - Returns True if all characters in the string are printable\n",
        "print(my_name.isspace())\n",
        "#isspace() - Returns True if all characters in the string are whitespaces\n",
        "\n"
      ]
    },
    {
      "cell_type": "code",
      "source": [
        "set1 = {'IronMan' , 'CaptainAmerica' , 'Hulk' , 'Thor'}\n",
        "set2 = {'IronMan' , 'CaptainAmerica' , 'Hulk' , 'Thor' , 'BlackWidow' , 'Hawkeye'}\n",
        "\n",
        "set2.difference(set1)\n",
        "set2.intersection_update(set1)\n",
        "print(set2)"
      ],
      "metadata": {
        "id": "Zutc1KvGVLfJ",
        "colab": {
          "base_uri": "https://localhost:8080/"
        },
        "outputId": "e885c8fc-0c7c-4c3d-b02d-ddbc36061033"
      },
      "execution_count": null,
      "outputs": [
        {
          "output_type": "stream",
          "name": "stdout",
          "text": [
            "{'CaptainAmerica', 'Hulk', 'IronMan', 'Thor'}\n"
          ]
        }
      ]
    },
    {
      "cell_type": "code",
      "source": [
        "#dictionaries\n",
        "#A dictionary is a collection which is unordered, changeable and indexed. In Python dictionaries are written with curly brackets, and they have keys and values.\n",
        "dict = {}\n",
        "car_dict = {\"brand 1\" : \"BMW\" , \"brand 2\" : \"Audi\" , \"brand 3\" : \"Mercedes\" , \"brand 4\" : \"Volkswagen\"}\n",
        "print(car_dict[\"brand 1\"])\n",
        "\n",
        "type(car_dict)\n",
        "\n",
        "\n",
        "for x in car_dict:\n",
        "  print(x)\n",
        "\n",
        "for x in car_dict.values():\n",
        "  print(x)"
      ],
      "metadata": {
        "colab": {
          "base_uri": "https://localhost:8080/"
        },
        "id": "cOvfbhKwHCfu",
        "outputId": "d56fc0b8-5b48-4c88-d17d-627cd678b5ee"
      },
      "execution_count": null,
      "outputs": [
        {
          "output_type": "stream",
          "name": "stdout",
          "text": [
            "BMW\n",
            "brand 1\n",
            "brand 2\n",
            "brand 3\n",
            "brand 4\n",
            "BMW\n",
            "Audi\n",
            "Mercedes\n",
            "Volkswagen\n"
          ]
        }
      ]
    },
    {
      "cell_type": "code",
      "source": [
        "#tuple\n",
        "my_tup = (1,2,3,4,5,6,7,8,9,10)\n",
        "print(my_tup)\n",
        "\n",
        "name_tup = (\"Nithin\" , \"Krish\")\n",
        "print(name_tup)\n",
        "\n",
        "name_tup = (\"Krish\" , \"Nithin\")"
      ],
      "metadata": {
        "id": "peDtWMfsOr8i",
        "outputId": "4c2840ea-1446-4083-f71d-2397cdddfb5c",
        "colab": {
          "base_uri": "https://localhost:8080/"
        }
      },
      "execution_count": null,
      "outputs": [
        {
          "output_type": "stream",
          "name": "stdout",
          "text": [
            "(1, 2, 3, 4, 5, 6, 7, 8, 9, 10)\n",
            "('Nithin', 'Krish')\n"
          ]
        }
      ]
    },
    {
      "cell_type": "code",
      "source": [
        "\n",
        "def greet_user(username):\n",
        "  print(f\"Hello, {username.title()}!\"  )\n",
        "\n",
        "\n",
        "greet_user(\"Nithin\")"
      ],
      "metadata": {
        "colab": {
          "base_uri": "https://localhost:8080/"
        },
        "id": "RursicEde0n2",
        "outputId": "fcec3b87-9c93-4188-d613-c7ca0de96cae"
      },
      "execution_count": null,
      "outputs": [
        {
          "output_type": "stream",
          "name": "stdout",
          "text": [
            "Hello, Nithin!\n"
          ]
        }
      ]
    },
    {
      "cell_type": "code",
      "source": [],
      "metadata": {
        "id": "ruIdVPw5e0t8"
      },
      "execution_count": null,
      "outputs": []
    }
  ]
}