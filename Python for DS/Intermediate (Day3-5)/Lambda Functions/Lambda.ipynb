{
  "nbformat": 4,
  "nbformat_minor": 0,
  "metadata": {
    "colab": {
      "provenance": []
    },
    "kernelspec": {
      "name": "python3",
      "display_name": "Python 3"
    },
    "language_info": {
      "name": "python"
    }
  },
  "cells": [
    {
      "cell_type": "code",
      "execution_count": 1,
      "metadata": {
        "colab": {
          "base_uri": "https://localhost:8080/"
        },
        "id": "QzajloqknQFV",
        "outputId": "5a31ab26-8a1c-4c02-a76f-2fecfcb967fc"
      },
      "outputs": [
        {
          "output_type": "execute_result",
          "data": {
            "text/plain": [
              "5"
            ]
          },
          "metadata": {},
          "execution_count": 1
        }
      ],
      "source": [
        "#also called as anonymous function, works like a normal function but without a name , works faster and easy to use.\n",
        "def addition(a,b):\n",
        "    return a+b\n",
        "\n",
        "addition(2,3)"
      ]
    },
    {
      "cell_type": "code",
      "source": [
        "addition = lambda a,b: a+b\n",
        "addition(2,3)"
      ],
      "metadata": {
        "colab": {
          "base_uri": "https://localhost:8080/"
        },
        "id": "Ug0kB35gnmFO",
        "outputId": "9362ef8c-a451-4784-bedd-d60bbb9a15df"
      },
      "execution_count": 3,
      "outputs": [
        {
          "output_type": "execute_result",
          "data": {
            "text/plain": [
              "5"
            ]
          },
          "metadata": {},
          "execution_count": 3
        }
      ]
    },
    {
      "cell_type": "code",
      "source": [
        "def even (a):\n",
        "  if a%2 == 0:\n",
        "     return True\n"
      ],
      "metadata": {
        "id": "RCrtbIVAoB7q"
      },
      "execution_count": 5,
      "outputs": []
    },
    {
      "cell_type": "code",
      "source": [
        "even(6)"
      ],
      "metadata": {
        "colab": {
          "base_uri": "https://localhost:8080/"
        },
        "id": "kdT9I2ekoII6",
        "outputId": "cbd4eb2c-9daa-4882-a7fa-82b6e059839c"
      },
      "execution_count": 10,
      "outputs": [
        {
          "output_type": "execute_result",
          "data": {
            "text/plain": [
              "True"
            ]
          },
          "metadata": {},
          "execution_count": 10
        }
      ]
    },
    {
      "cell_type": "code",
      "source": [
        "even = lambda a : a%2==0\n",
        "even(24)"
      ],
      "metadata": {
        "colab": {
          "base_uri": "https://localhost:8080/"
        },
        "id": "lYGkm-1UogCO",
        "outputId": "af31db70-f68c-45ac-a7dd-64a45fa09575"
      },
      "execution_count": 11,
      "outputs": [
        {
          "output_type": "execute_result",
          "data": {
            "text/plain": [
              "True"
            ]
          },
          "metadata": {},
          "execution_count": 11
        }
      ]
    },
    {
      "cell_type": "code",
      "source": [
        "addition = lambda a,b,c : (a+b+c)\n",
        "addition(2,4,5)"
      ],
      "metadata": {
        "colab": {
          "base_uri": "https://localhost:8080/"
        },
        "id": "ucsG2iwkqqmA",
        "outputId": "1341155b-d9b3-4a46-c9a0-58ec4e964047"
      },
      "execution_count": 12,
      "outputs": [
        {
          "output_type": "execute_result",
          "data": {
            "text/plain": [
              "11"
            ]
          },
          "metadata": {},
          "execution_count": 12
        }
      ]
    }
  ]
}