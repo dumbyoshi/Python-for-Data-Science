{
 "cells": [
  {
   "cell_type": "markdown",
   "id": "8b933201",
   "metadata": {},
   "source": [
    "# Numpy Basics"
   ]
  },
  {
   "cell_type": "code",
   "execution_count": 13,
   "id": "681812c5",
   "metadata": {},
   "outputs": [
    {
     "data": {
      "text/plain": [
       "array([0., 0., 0.])"
      ]
     },
     "execution_count": 13,
     "metadata": {},
     "output_type": "execute_result"
    }
   ],
   "source": [
    "##Why it is useful: Memory-efficient container that provides fast numerical operations.\n",
    "\n",
    "import numpy as np\n",
    "a = np.zeros(3)\n",
    "a"
   ]
  },
  {
   "cell_type": "code",
   "execution_count": 4,
   "id": "21ae00ae",
   "metadata": {},
   "outputs": [
    {
     "data": {
      "text/plain": [
       "array([0., 0., 0., 0., 0., 0., 0., 0., 0., 0.])"
      ]
     },
     "execution_count": 4,
     "metadata": {},
     "output_type": "execute_result"
    }
   ],
   "source": [
    "z = np.zeros(10)\n",
    "z"
   ]
  },
  {
   "cell_type": "code",
   "execution_count": 9,
   "id": "243052b5",
   "metadata": {},
   "outputs": [
    {
     "data": {
      "text/plain": [
       "numpy.float64"
      ]
     },
     "execution_count": 9,
     "metadata": {},
     "output_type": "execute_result"
    }
   ],
   "source": [
    "y = np.ones(12)\n",
    "y\n",
    "type(y[1])"
   ]
  },
  {
   "cell_type": "code",
   "execution_count": 14,
   "id": "d559f84b",
   "metadata": {},
   "outputs": [
    {
     "data": {
      "text/plain": [
       "array([ 2. ,  3.6,  5.2,  6.8,  8.4, 10. ])"
      ]
     },
     "execution_count": 14,
     "metadata": {},
     "output_type": "execute_result"
    }
   ],
   "source": [
    "x = np.linspace(2,10,6) #From 2 to 10 , with 5 elements.\n",
    "x"
   ]
  },
  {
   "cell_type": "markdown",
   "id": "9e59fbbb",
   "metadata": {},
   "source": [
    "## Creating Arrays\n",
    "### Manual Construction of Arrays"
   ]
  },
  {
   "cell_type": "code",
   "execution_count": 15,
   "id": "a87a21ea",
   "metadata": {},
   "outputs": [
    {
     "data": {
      "text/plain": [
       "array([0, 1, 2, 3])"
      ]
     },
     "execution_count": 15,
     "metadata": {},
     "output_type": "execute_result"
    }
   ],
   "source": [
    "#1-D Array\n",
    "a = np.array([0,1,2,3])\n",
    "a"
   ]
  },
  {
   "cell_type": "code",
   "execution_count": 16,
   "id": "474fe509",
   "metadata": {},
   "outputs": [
    {
     "data": {
      "text/plain": [
       "1"
      ]
     },
     "execution_count": 16,
     "metadata": {},
     "output_type": "execute_result"
    }
   ],
   "source": [
    "a.ndim"
   ]
  },
  {
   "cell_type": "code",
   "execution_count": 20,
   "id": "98ec4a8b",
   "metadata": {},
   "outputs": [
    {
     "data": {
      "text/plain": [
       "(4,)"
      ]
     },
     "execution_count": 20,
     "metadata": {},
     "output_type": "execute_result"
    }
   ],
   "source": [
    "a.shape"
   ]
  },
  {
   "cell_type": "code",
   "execution_count": 21,
   "id": "14f62d7b",
   "metadata": {},
   "outputs": [
    {
     "data": {
      "text/plain": [
       "4"
      ]
     },
     "execution_count": 21,
     "metadata": {},
     "output_type": "execute_result"
    }
   ],
   "source": [
    "len(a)"
   ]
  },
  {
   "cell_type": "code",
   "execution_count": 26,
   "id": "765099a1",
   "metadata": {},
   "outputs": [
    {
     "data": {
      "text/plain": [
       "array([[0, 1, 2],\n",
       "       [3, 4, 5]])"
      ]
     },
     "execution_count": 26,
     "metadata": {},
     "output_type": "execute_result"
    }
   ],
   "source": [
    "#2-D , 3-D Array\n",
    "b = np.array([[0,1,2] , [3,4,5]]) # 2 X 3 array\n",
    "b"
   ]
  },
  {
   "cell_type": "code",
   "execution_count": 27,
   "id": "80b636d0",
   "metadata": {},
   "outputs": [
    {
     "data": {
      "text/plain": [
       "array([[2, 4, 6],\n",
       "       [4, 8, 9],\n",
       "       [1, 7, 6]])"
      ]
     },
     "execution_count": 27,
     "metadata": {},
     "output_type": "execute_result"
    }
   ],
   "source": [
    "e = np.array([[2,4,6] , [4,8,9] , [1,7,6]]) #3 X 3 array\n",
    "e"
   ]
  },
  {
   "cell_type": "code",
   "execution_count": 29,
   "id": "fc05b9a1",
   "metadata": {},
   "outputs": [
    {
     "data": {
      "text/plain": [
       "(3, 3)"
      ]
     },
     "execution_count": 29,
     "metadata": {},
     "output_type": "execute_result"
    }
   ],
   "source": [
    "e.shape\n"
   ]
  },
  {
   "cell_type": "markdown",
   "id": "3f07b021",
   "metadata": {},
   "source": [
    "Exercise: Simple arrays\n",
    "\n",
    "    Create a simple two dimensional array. First, redo the examples from above. And then create your own: how about odd numbers counting backwards on the first row, and even numbers on the second?"
   ]
  },
  {
   "cell_type": "code",
   "execution_count": 30,
   "id": "0558c784",
   "metadata": {},
   "outputs": [
    {
     "data": {
      "text/plain": [
       "array([[9, 6, 3],\n",
       "       [2, 4, 6]])"
      ]
     },
     "execution_count": 30,
     "metadata": {},
     "output_type": "execute_result"
    }
   ],
   "source": [
    "ev_od = np.array([[9,6,3] , [2,4,6]])\n",
    "ev_od"
   ]
  },
  {
   "cell_type": "code",
   "execution_count": 31,
   "id": "a9027518",
   "metadata": {},
   "outputs": [
    {
     "data": {
      "text/plain": [
       "2"
      ]
     },
     "execution_count": 31,
     "metadata": {},
     "output_type": "execute_result"
    }
   ],
   "source": [
    "len(ev_od)\n"
   ]
  },
  {
   "cell_type": "code",
   "execution_count": 33,
   "id": "01cf01ba",
   "metadata": {},
   "outputs": [
    {
     "data": {
      "text/plain": [
       "(2, 3)"
      ]
     },
     "execution_count": 33,
     "metadata": {},
     "output_type": "execute_result"
    }
   ],
   "source": [
    "np.shape([[9,6,3] , [2,4,6]])"
   ]
  },
  {
   "cell_type": "code",
   "execution_count": 34,
   "id": "0f7940cb",
   "metadata": {},
   "outputs": [
    {
     "data": {
      "text/plain": [
       "2"
      ]
     },
     "execution_count": 34,
     "metadata": {},
     "output_type": "execute_result"
    }
   ],
   "source": [
    "ev_od.ndim"
   ]
  },
  {
   "cell_type": "markdown",
   "id": "debdd2a9",
   "metadata": {},
   "source": [
    "# Basic data types\n",
    "in some instances, array elements are displayed with a trailing dot (e.g. 2. vs 2). This is due to a difference in the data-type used:"
   ]
  },
  {
   "cell_type": "code",
   "execution_count": 35,
   "id": "695ec426",
   "metadata": {},
   "outputs": [
    {
     "data": {
      "text/plain": [
       "dtype('int32')"
      ]
     },
     "execution_count": 35,
     "metadata": {},
     "output_type": "execute_result"
    }
   ],
   "source": [
    "a = np.array([1,2,3])\n",
    "a.dtype"
   ]
  },
  {
   "cell_type": "code",
   "execution_count": 36,
   "id": "3c548484",
   "metadata": {},
   "outputs": [
    {
     "data": {
      "text/plain": [
       "dtype('float64')"
      ]
     },
     "execution_count": 36,
     "metadata": {},
     "output_type": "execute_result"
    }
   ],
   "source": [
    "b = np.array([3.,4.,5.])\n",
    "b.dtype"
   ]
  },
  {
   "cell_type": "code",
   "execution_count": 37,
   "id": "831c876b",
   "metadata": {},
   "outputs": [
    {
     "data": {
      "text/plain": [
       "dtype('float64')"
      ]
     },
     "execution_count": 37,
     "metadata": {},
     "output_type": "execute_result"
    }
   ],
   "source": [
    "c = np.array([3,4,5] ,dtype = float)#We can aslo specify the type of data , but the default is Float type\n",
    "c.dtype\n",
    "#there are also other Data types like Complex , Bool , Strings , int32 , int 64 etc etc"
   ]
  },
  {
   "cell_type": "markdown",
   "id": "3dd52654",
   "metadata": {},
   "source": [
    "# Basic visualization"
   ]
  },
  {
   "cell_type": "code",
   "execution_count": 39,
   "id": "119ef585",
   "metadata": {},
   "outputs": [],
   "source": [
    "%matplotlib inline"
   ]
  },
  {
   "cell_type": "code",
   "execution_count": 40,
   "id": "e9a71bc0",
   "metadata": {},
   "outputs": [],
   "source": [
    "import matplotlib.pyplot as plt"
   ]
  },
  {
   "cell_type": "code",
   "execution_count": 45,
   "id": "8d5628f5",
   "metadata": {},
   "outputs": [
    {
     "name": "stdout",
     "output_type": "stream",
     "text": [
      "1D Plotting\n"
     ]
    },
    {
     "data": {
      "text/plain": [
       "[<matplotlib.lines.Line2D at 0x159076e3c40>]"
      ]
     },
     "execution_count": 45,
     "metadata": {},
     "output_type": "execute_result"
    },
    {
     "data": {
      "image/png": "[encoded data removed]",
      "text/plain": [
       "<Figure size 432x288 with 1 Axes>"
      ]
     },
     "metadata": {
      "needs_background": "light"
     },
     "output_type": "display_data"
    }
   ],
   "source": [
    "print(\"1D Plotting\")\n",
    "x = np.linspace(0, 3, 20)\n",
    "\n",
    "y = np.linspace(0, 9, 20)\n",
    "plt.plot(x, y)"
   ]
  },
  {
   "cell_type": "code",
   "execution_count": 44,
   "id": "36ce52ca",
   "metadata": {},
   "outputs": [
    {
     "data": {
      "text/plain": [
       "<function matplotlib.pyplot.show(close=None, block=None)>"
      ]
     },
     "execution_count": 44,
     "metadata": {},
     "output_type": "execute_result"
    },
    {
     "data": {
      "image/png": "[encoded data removed]",
      "text/plain": [
       "<Figure size 432x288 with 1 Axes>"
      ]
     },
     "metadata": {
      "needs_background": "light"
     },
     "output_type": "display_data"
    }
   ],
   "source": [
    "plt.plot(x, y , 'o')\n",
    "#plt.show not needed with interactive plots!"
   ]
  },
  {
   "cell_type": "markdown",
   "id": "94819836",
   "metadata": {},
   "source": [
    "# #\n",
    "\n",
    "Exercise: Simple visualizations\n",
    "\n",
    "    Plot some simple arrays: a cosine as a function of time and a 2D matrix.\n",
    "\n",
    "    Try using the gray colormap on the 2D matrix.\n",
    "\n"
   ]
  },
  {
   "cell_type": "code",
   "execution_count": 49,
   "id": "800ab695",
   "metadata": {},
   "outputs": [
    {
     "data": {
      "text/plain": [
       "<matplotlib.colorbar.Colorbar at 0x1590883a9d0>"
      ]
     },
     "execution_count": 49,
     "metadata": {},
     "output_type": "execute_result"
    },
    {
     "data": {
      "image/png": "[encoded data removed]",
      "text/plain": [
       "<Figure size 432x288 with 2 Axes>"
      ]
     },
     "metadata": {
      "needs_background": "light"
     },
     "output_type": "display_data"
    }
   ],
   "source": [
    "#2D arrays (such as images):\n",
    "rng = np.random.default_rng(27446968)#This line initializes a random number generator with a specific seed value (27446968). Using a fixed seed ensures that the random numbers generated are reproducible, meaning that if you run the code with the same seed, you'll get the same random numbers every time.\n",
    "image = rng.random((30, 30))#Here, you use the random number generator (rng) to create a 30x30 2D array filled with random numbers between 0 and 1. This array represents your \"image,\" although it's just a grid of random values.\n",
    "plt.imshow(image, cmap=plt.cm.hot)#plt.imshow(image, cmap=plt.cm.hot): This line uses Matplotlib to display the 2D array (image) as an image. The cmap=plt.cm.hot argument specifies the colormap to be used for mapping the values in the array to colors. In this case, you're using the \"hot\" colormap, which represents lower values with cooler colors (e.g., blue) and higher values with warmer colors (e.g., red).\n",
    "plt.colorbar()#This line adds a colorbar to the plot. The colorbar is a side scale that shows the mapping of values to colors in the image. It helps interpret the colors in the image and their corresponding values in the array."
   ]
  },
  {
   "cell_type": "code",
   "execution_count": 50,
   "id": "ed1c63d7",
   "metadata": {},
   "outputs": [
    {
     "data": {
      "image/png": "[encoded data removed]",
      "text/plain": [
       "<Figure size 432x432 with 2 Axes>"
      ]
     },
     "metadata": {
      "needs_background": "light"
     },
     "output_type": "display_data"
    }
   ],
   "source": [
    "import numpy as np\n",
    "import matplotlib.pyplot as plt\n",
    "\n",
    "# Create a 2D matrix\n",
    "matrix = np.random.rand(10, 10)  # Generate a 10x10 matrix of random numbers\n",
    "\n",
    "# Plot the 2D matrix as an image\n",
    "plt.figure(figsize=(6, 6))\n",
    "plt.imshow(matrix, cmap=plt.cm.hot, interpolation='nearest')\n",
    "plt.colorbar()\n",
    "plt.title('2D Matrix')\n",
    "plt.show()"
   ]
  },
  {
   "cell_type": "code",
   "execution_count": 51,
   "id": "2412070b",
   "metadata": {},
   "outputs": [
    {
     "data": {
      "image/png": "[encoded data removed]",
      "text/plain": [
       "<Figure size 432x432 with 2 Axes>"
      ]
     },
     "metadata": {
      "needs_background": "light"
     },
     "output_type": "display_data"
    }
   ],
   "source": [
    "import numpy as np\n",
    "import matplotlib.pyplot as plt\n",
    "\n",
    "# Create a 2D matrix\n",
    "matrix = np.random.rand(10, 10)  # Generate a 10x10 matrix of random numbers\n",
    "\n",
    "# Plot the 2D matrix as an image in grayscale\n",
    "plt.figure(figsize=(6, 6))\n",
    "plt.imshow(matrix, cmap='gray', interpolation='nearest')\n",
    "plt.colorbar()\n",
    "plt.title('2D Matrix (Grayscale)')\n",
    "plt.show()\n"
   ]
  },
  {
   "cell_type": "markdown",
   "id": "31f28860",
   "metadata": {},
   "source": []
  },
  {
   "cell_type": "code",
   "execution_count": 52,
   "id": "b9169180",
   "metadata": {},
   "outputs": [
    {
     "data": {
      "text/plain": [
       "array([0, 1, 2, 3, 4, 5, 6, 7, 8, 9])"
      ]
     },
     "execution_count": 52,
     "metadata": {},
     "output_type": "execute_result"
    }
   ],
   "source": []
  },
  {
   "cell_type": "code",
   "execution_count": 54,
   "id": "dc3ce41d",
   "metadata": {},
   "outputs": [
    {
     "data": {
      "text/plain": [
       "(6, 5, 6)"
      ]
     },
     "execution_count": 54,
     "metadata": {},
     "output_type": "execute_result"
    }
   ],
   "source": []
  },
  {
   "cell_type": "code",
   "execution_count": null,
   "id": "8b0bcc40",
   "metadata": {},
   "outputs": [],
   "source": []
  }
 ],
 "metadata": {
  "kernelspec": {
   "display_name": "Python 3 (ipykernel)",
   "language": "python",
   "name": "python3"
  },
  "language_info": {
   "codemirror_mode": {
    "name": "ipython",
    "version": 3
   },
   "file_extension": ".py",
   "mimetype": "text/x-python",
   "name": "python",
   "nbconvert_exporter": "python",
   "pygments_lexer": "ipython3",
   "version": "3.9.12"
  }
 },
 "nbformat": 4,
 "nbformat_minor": 5
}
