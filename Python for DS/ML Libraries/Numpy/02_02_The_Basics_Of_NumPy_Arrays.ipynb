{
  "cells": [
    {
      "cell_type": "markdown",
      "metadata": {
        "id": "sDCBbM3LE8sa"
      },
      "source": [
        "# The Basics of NumPy Arrays"
      ]
    },
    {
      "cell_type": "markdown",
      "metadata": {
        "id": "7C89OvAEE8sc"
      },
      "source": [
        "Data manipulation in Python is nearly synonymous with NumPy array manipulation: even newer tools like Pandas ([Part 3](03.00-Introduction-to-Pandas.ipynb)) are built around the NumPy array.\n",
        "This chapter will present several examples of using NumPy array manipulation to access data and subarrays, and to split, reshape, and join the arrays.\n",
        "While the types of operations shown here may seem a bit dry and pedantic, they comprise the building blocks of many other examples used throughout the book.\n",
        "Get to know them well!\n",
        "\n",
        "We'll cover a few categories of basic array manipulations here:\n",
        "\n",
        "- *Attributes of arrays*: Determining the size, shape, memory consumption, and data types of arrays\n",
        "- *Indexing of arrays*: Getting and setting the values of individual array elements\n",
        "- *Slicing of arrays*: Getting and setting smaller subarrays within a larger array\n",
        "- *Reshaping of arrays*: Changing the shape of a given array\n",
        "- *Joining and splitting of arrays*: Combining multiple arrays into one, and splitting one array into many"
      ]
    },
    {
      "cell_type": "markdown",
      "metadata": {
        "id": "ynJBSHIsE8sd"
      },
      "source": [
        "## NumPy Array Attributes"
      ]
    },
    {
      "cell_type": "markdown",
      "metadata": {
        "id": "rtYyqkkGE8se"
      },
      "source": [
        "First let's discuss some useful array attributes.\n",
        "We'll start by defining random arrays of one, two, and three dimensions.\n",
        "We'll use NumPy's random number generator, which we will *seed* with a set value in order to ensure that the same random arrays are generated each time this code is run:"
      ]
    },
    {
      "cell_type": "code",
      "execution_count": null,
      "metadata": {
        "jupyter": {
          "outputs_hidden": false
        },
        "id": "_LdSrxFVE8se"
      },
      "outputs": [],
      "source": [
        "import numpy as np\n",
        "rng = np.random.default_rng(seed=1701)  # seed for reproducibility\n",
        "\n",
        "x1 = rng.integers(10, size=6)  # one-dimensional array\n",
        "x2 = rng.integers(10, size=(3, 4))  # two-dimensional array\n",
        "x3 = rng.integers(10, size=(3, 4, 5))  # three-dimensional array"
      ]
    },
    {
      "cell_type": "markdown",
      "metadata": {
        "id": "dnHgVu5VE8sf"
      },
      "source": [
        "Each array has attributes including `ndim` (the number of dimensions), `shape` (the size of each dimension), `size` (the total size of the array), and `dtype` (the type of each element):"
      ]
    },
    {
      "cell_type": "code",
      "execution_count": null,
      "metadata": {
        "jupyter": {
          "outputs_hidden": false
        },
        "id": "Q7XLOXFzE8sg",
        "outputId": "f996db12-6763-4974-f153-70c6397254ef"
      },
      "outputs": [
        {
          "name": "stdout",
          "output_type": "stream",
          "text": [
            "x3 ndim:  3\n",
            "x3 shape: (3, 4, 5)\n",
            "x3 size:  60\n",
            "dtype:    int64\n"
          ]
        }
      ],
      "source": [
        "print(\"x3 ndim: \", x3.ndim)\n",
        "print(\"x3 shape:\", x3.shape)\n",
        "print(\"x3 size: \", x3.size)\n",
        "print(\"dtype:   \", x3.dtype)"
      ]
    },
    {
      "cell_type": "markdown",
      "metadata": {
        "id": "Quir3-qaE8sh"
      },
      "source": [
        "For more discussion of data types, see [Understanding Data Types in Python](02.01-Understanding-Data-Types.ipynb)."
      ]
    },
    {
      "cell_type": "markdown",
      "metadata": {
        "id": "le_7fMWGE8si"
      },
      "source": [
        "## Array Indexing: Accessing Single Elements"
      ]
    },
    {
      "cell_type": "markdown",
      "metadata": {
        "id": "faAIN4zBE8sj"
      },
      "source": [
        "If you are familiar with Python's standard list indexing, indexing in NumPy will feel quite familiar.\n",
        "In a one-dimensional array, the $i^{th}$ value (counting from zero) can be accessed by specifying the desired index in square brackets, just as with Python lists:"
      ]
    },
    {
      "cell_type": "code",
      "execution_count": null,
      "metadata": {
        "jupyter": {
          "outputs_hidden": false
        },
        "id": "p0UrGB4pE8sk",
        "outputId": "ccee6388-4e11-48d6-8571-c075a52d9bd1"
      },
      "outputs": [
        {
          "data": {
            "text/plain": [
              "array([9, 4, 0, 3, 8, 6])"
            ]
          },
          "execution_count": 3,
          "metadata": {},
          "output_type": "execute_result"
        }
      ],
      "source": [
        "x1"
      ]
    },
    {
      "cell_type": "code",
      "execution_count": null,
      "metadata": {
        "jupyter": {
          "outputs_hidden": false
        },
        "id": "h6foB22fE8sk",
        "outputId": "35b1a9fb-96f1-492d-b1fd-ef21d039ceda"
      },
      "outputs": [
        {
          "data": {
            "text/plain": [
              "9"
            ]
          },
          "execution_count": 4,
          "metadata": {},
          "output_type": "execute_result"
        }
      ],
      "source": [
        "x1[0]"
      ]
    },
    {
      "cell_type": "code",
      "execution_count": null,
      "metadata": {
        "jupyter": {
          "outputs_hidden": false
        },
        "id": "mJC_sdiyE8sl",
        "outputId": "86fa1282-6769-41fc-ccb7-a6214e8cc46e"
      },
      "outputs": [
        {
          "data": {
            "text/plain": [
              "8"
            ]
          },
          "execution_count": 5,
          "metadata": {},
          "output_type": "execute_result"
        }
      ],
      "source": [
        "x1[4]"
      ]
    },
    {
      "cell_type": "markdown",
      "metadata": {
        "id": "-YE73iY_E8sl"
      },
      "source": [
        "To index from the end of the array, you can use negative indices:"
      ]
    },
    {
      "cell_type": "code",
      "execution_count": null,
      "metadata": {
        "jupyter": {
          "outputs_hidden": false
        },
        "id": "jdt1kH3cE8sm",
        "outputId": "da355ff8-b5f4-4fd8-b256-a2b6d8e224bb"
      },
      "outputs": [
        {
          "data": {
            "text/plain": [
              "6"
            ]
          },
          "execution_count": 6,
          "metadata": {},
          "output_type": "execute_result"
        }
      ],
      "source": [
        "x1[-1]"
      ]
    },
    {
      "cell_type": "code",
      "execution_count": null,
      "metadata": {
        "jupyter": {
          "outputs_hidden": false
        },
        "id": "xtRD20kJE8sm",
        "outputId": "19e2aee4-5c6f-41c5-cd3d-1e6d4fd503e2"
      },
      "outputs": [
        {
          "data": {
            "text/plain": [
              "8"
            ]
          },
          "execution_count": 7,
          "metadata": {},
          "output_type": "execute_result"
        }
      ],
      "source": [
        "x1[-2]"
      ]
    },
    {
      "cell_type": "markdown",
      "metadata": {
        "id": "6IeVRsRvE8sm"
      },
      "source": [
        "In a multidimensional array, items can be accessed using a comma-separated `(row, column)` tuple:"
      ]
    },
    {
      "cell_type": "code",
      "execution_count": null,
      "metadata": {
        "jupyter": {
          "outputs_hidden": false
        },
        "id": "wC-vOdQvE8sn",
        "outputId": "637d13f6-1cbb-4dd5-fe3d-a6d92a874dd8"
      },
      "outputs": [
        {
          "data": {
            "text/plain": [
              "array([[3, 1, 3, 7],\n",
              "       [4, 0, 2, 3],\n",
              "       [0, 0, 6, 9]])"
            ]
          },
          "execution_count": 8,
          "metadata": {},
          "output_type": "execute_result"
        }
      ],
      "source": [
        "x2"
      ]
    },
    {
      "cell_type": "code",
      "execution_count": null,
      "metadata": {
        "jupyter": {
          "outputs_hidden": false
        },
        "id": "xjwBCnbSE8sn",
        "outputId": "1a0be11b-7854-4bfb-8b11-e7d47f1807a9"
      },
      "outputs": [
        {
          "data": {
            "text/plain": [
              "3"
            ]
          },
          "execution_count": 9,
          "metadata": {},
          "output_type": "execute_result"
        }
      ],
      "source": [
        "x2[0, 0]"
      ]
    },
    {
      "cell_type": "code",
      "execution_count": null,
      "metadata": {
        "jupyter": {
          "outputs_hidden": false
        },
        "id": "gPxrYrs0E8sn",
        "outputId": "136b9e36-c944-4244-ffd2-1aba275d5188"
      },
      "outputs": [
        {
          "data": {
            "text/plain": [
              "0"
            ]
          },
          "execution_count": 10,
          "metadata": {},
          "output_type": "execute_result"
        }
      ],
      "source": [
        "x2[2, 0]"
      ]
    },
    {
      "cell_type": "code",
      "execution_count": null,
      "metadata": {
        "jupyter": {
          "outputs_hidden": false
        },
        "id": "husDasKRE8so",
        "outputId": "c43cbf50-9869-40ff-ec4d-7ef0f38c3705"
      },
      "outputs": [
        {
          "data": {
            "text/plain": [
              "9"
            ]
          },
          "execution_count": 11,
          "metadata": {},
          "output_type": "execute_result"
        }
      ],
      "source": [
        "x2[2, -1]"
      ]
    },
    {
      "cell_type": "markdown",
      "metadata": {
        "id": "vbHRqrh5E8so"
      },
      "source": [
        "Values can also be modified using any of the preceding index notation:"
      ]
    },
    {
      "cell_type": "code",
      "execution_count": null,
      "metadata": {
        "jupyter": {
          "outputs_hidden": false
        },
        "id": "kOMPPHTyE8so",
        "outputId": "c64e999d-ccfc-4110-e19d-905cd43b71ae"
      },
      "outputs": [
        {
          "data": {
            "text/plain": [
              "array([[12,  1,  3,  7],\n",
              "       [ 4,  0,  2,  3],\n",
              "       [ 0,  0,  6,  9]])"
            ]
          },
          "execution_count": 12,
          "metadata": {},
          "output_type": "execute_result"
        }
      ],
      "source": [
        "x2[0, 0] = 12\n",
        "x2"
      ]
    },
    {
      "cell_type": "markdown",
      "metadata": {
        "id": "1C0yUxb6E8sp"
      },
      "source": [
        "Keep in mind that, unlike Python lists, NumPy arrays have a fixed type.\n",
        "This means, for example, that if you attempt to insert a floating-point value into an integer array, the value will be silently truncated. Don't be caught unaware by this behavior!"
      ]
    },
    {
      "cell_type": "code",
      "execution_count": null,
      "metadata": {
        "jupyter": {
          "outputs_hidden": false
        },
        "id": "Jbn8QFEqE8sp",
        "outputId": "a199097d-1b01-4f33-a0b1-a05d0c632846"
      },
      "outputs": [
        {
          "data": {
            "text/plain": [
              "array([3, 4, 0, 3, 8, 6])"
            ]
          },
          "execution_count": 13,
          "metadata": {},
          "output_type": "execute_result"
        }
      ],
      "source": [
        "x1[0] = 3.14159  # this will be truncated!\n",
        "x1"
      ]
    },
    {
      "cell_type": "markdown",
      "metadata": {
        "id": "0hs6DMAOE8sq"
      },
      "source": [
        "## Array Slicing: Accessing Subarrays"
      ]
    },
    {
      "cell_type": "markdown",
      "metadata": {
        "id": "kgTTmVEYE8sq"
      },
      "source": [
        "Just as we can use square brackets to access individual array elements, we can also use them to access subarrays with the *slice* notation, marked by the colon (`:`) character.\n",
        "The NumPy slicing syntax follows that of the standard Python list; to access a slice of an array `x`, use this:\n",
        "``` python\n",
        "x[start:stop:step]\n",
        "```\n",
        "If any of these are unspecified, they default to the values `start=0`, `stop=<size of dimension>`, `step=1`.\n",
        "Let's look at some examples of accessing subarrays in one dimension and in multiple dimensions."
      ]
    },
    {
      "cell_type": "markdown",
      "metadata": {
        "id": "j-q8aceRE8sq"
      },
      "source": [
        "### One-Dimensional Subarrays\n",
        "\n",
        "Here are some examples of accessing elements in one-dimensional subarrays:"
      ]
    },
    {
      "cell_type": "code",
      "execution_count": null,
      "metadata": {
        "jupyter": {
          "outputs_hidden": false
        },
        "id": "4THaGVjFE8sq",
        "outputId": "77dc583c-6c7c-442e-dce1-1085bb999109"
      },
      "outputs": [
        {
          "data": {
            "text/plain": [
              "array([3, 4, 0, 3, 8, 6])"
            ]
          },
          "execution_count": 14,
          "metadata": {},
          "output_type": "execute_result"
        }
      ],
      "source": [
        "x1"
      ]
    },
    {
      "cell_type": "code",
      "execution_count": null,
      "metadata": {
        "jupyter": {
          "outputs_hidden": false
        },
        "id": "DzMyN9sGE8sq",
        "outputId": "d17c884d-0896-4926-b03f-5331d97007c0"
      },
      "outputs": [
        {
          "data": {
            "text/plain": [
              "array([3, 4, 0])"
            ]
          },
          "execution_count": 15,
          "metadata": {},
          "output_type": "execute_result"
        }
      ],
      "source": [
        "x1[:3]  # first three elements"
      ]
    },
    {
      "cell_type": "code",
      "execution_count": null,
      "metadata": {
        "jupyter": {
          "outputs_hidden": false
        },
        "id": "E6mzvrflE8sr",
        "outputId": "392be879-377a-4d9c-98ef-205050ab9fe4"
      },
      "outputs": [
        {
          "data": {
            "text/plain": [
              "array([3, 8, 6])"
            ]
          },
          "execution_count": 16,
          "metadata": {},
          "output_type": "execute_result"
        }
      ],
      "source": [
        "x1[3:]  # elements after index 3"
      ]
    },
    {
      "cell_type": "code",
      "execution_count": null,
      "metadata": {
        "jupyter": {
          "outputs_hidden": false
        },
        "id": "xPyPd2dYE8sr",
        "outputId": "095e32a4-5587-4128-f470-ccce46056f61"
      },
      "outputs": [
        {
          "data": {
            "text/plain": [
              "array([4, 0, 3])"
            ]
          },
          "execution_count": 17,
          "metadata": {},
          "output_type": "execute_result"
        }
      ],
      "source": [
        "x1[1:4]  # middle subarray"
      ]
    },
    {
      "cell_type": "code",
      "execution_count": null,
      "metadata": {
        "jupyter": {
          "outputs_hidden": false
        },
        "id": "MofOt4j9E8ss",
        "outputId": "d0c4ad9c-d90f-408e-ab27-e3681af33bc2"
      },
      "outputs": [
        {
          "data": {
            "text/plain": [
              "array([3, 0, 8])"
            ]
          },
          "execution_count": 18,
          "metadata": {},
          "output_type": "execute_result"
        }
      ],
      "source": [
        "x1[::2]  # every second element"
      ]
    },
    {
      "cell_type": "code",
      "execution_count": null,
      "metadata": {
        "jupyter": {
          "outputs_hidden": false
        },
        "id": "rCQpoua_E8ss",
        "outputId": "5ecbe061-3c19-4f01-dd6b-11fb60dc3db5"
      },
      "outputs": [
        {
          "data": {
            "text/plain": [
              "array([4, 3, 6])"
            ]
          },
          "execution_count": 19,
          "metadata": {},
          "output_type": "execute_result"
        }
      ],
      "source": [
        "x1[1::2]  # every second element, starting at index 1"
      ]
    },
    {
      "cell_type": "markdown",
      "metadata": {
        "id": "77fxz-bYE8st"
      },
      "source": [
        "A potentially confusing case is when the `step` value is negative.\n",
        "In this case, the defaults for `start` and `stop` are swapped.\n",
        "This becomes a convenient way to reverse an array:"
      ]
    },
    {
      "cell_type": "code",
      "execution_count": null,
      "metadata": {
        "jupyter": {
          "outputs_hidden": false
        },
        "id": "m_VahwT0E8st",
        "outputId": "97f23959-9be4-463a-f881-3f6f7bb8460f"
      },
      "outputs": [
        {
          "data": {
            "text/plain": [
              "array([6, 8, 3, 0, 4, 3])"
            ]
          },
          "execution_count": 20,
          "metadata": {},
          "output_type": "execute_result"
        }
      ],
      "source": [
        "x1[::-1]  # all elements, reversed"
      ]
    },
    {
      "cell_type": "code",
      "execution_count": null,
      "metadata": {
        "jupyter": {
          "outputs_hidden": false
        },
        "id": "iloZ8u4zE8st",
        "outputId": "bc87134e-ed90-4fe0-963d-15215117ec13"
      },
      "outputs": [
        {
          "data": {
            "text/plain": [
              "array([8, 0, 3])"
            ]
          },
          "execution_count": 21,
          "metadata": {},
          "output_type": "execute_result"
        }
      ],
      "source": [
        "x1[4::-2]  # every second element from index 4, reversed"
      ]
    },
    {
      "cell_type": "markdown",
      "metadata": {
        "id": "TfeIIuavE8su"
      },
      "source": [
        "### Multidimensional Subarrays\n",
        "\n",
        "Multidimensional slices work in the same way, with multiple slices separated by commas.\n",
        "For example:"
      ]
    },
    {
      "cell_type": "code",
      "execution_count": null,
      "metadata": {
        "jupyter": {
          "outputs_hidden": false
        },
        "id": "jDMtalVqE8su",
        "outputId": "dbf80ff7-45e3-4e34-924f-66bc90134299"
      },
      "outputs": [
        {
          "data": {
            "text/plain": [
              "array([[12,  1,  3,  7],\n",
              "       [ 4,  0,  2,  3],\n",
              "       [ 0,  0,  6,  9]])"
            ]
          },
          "execution_count": 22,
          "metadata": {},
          "output_type": "execute_result"
        }
      ],
      "source": [
        "x2"
      ]
    },
    {
      "cell_type": "code",
      "execution_count": null,
      "metadata": {
        "jupyter": {
          "outputs_hidden": false
        },
        "id": "1PwL0SeCE8su",
        "outputId": "f3293945-9092-4fa2-d5d9-3388dbed17ec"
      },
      "outputs": [
        {
          "data": {
            "text/plain": [
              "array([[12,  1,  3],\n",
              "       [ 4,  0,  2]])"
            ]
          },
          "execution_count": 23,
          "metadata": {},
          "output_type": "execute_result"
        }
      ],
      "source": [
        "x2[:2, :3]  # first two rows & three columns"
      ]
    },
    {
      "cell_type": "code",
      "execution_count": null,
      "metadata": {
        "jupyter": {
          "outputs_hidden": false
        },
        "id": "-VzpdnHgE8sv",
        "outputId": "0fe52ae2-e206-40e4-a07d-79a60ef8c440"
      },
      "outputs": [
        {
          "data": {
            "text/plain": [
              "array([[12,  3],\n",
              "       [ 4,  2],\n",
              "       [ 0,  6]])"
            ]
          },
          "execution_count": 24,
          "metadata": {},
          "output_type": "execute_result"
        }
      ],
      "source": [
        "x2[:3, ::2]  # three rows, every second column"
      ]
    },
    {
      "cell_type": "code",
      "execution_count": null,
      "metadata": {
        "jupyter": {
          "outputs_hidden": false
        },
        "id": "yeDWjrr5E8sv",
        "outputId": "d2c6e12a-1f6c-4fb6-a71e-d38b52878134"
      },
      "outputs": [
        {
          "data": {
            "text/plain": [
              "array([[ 9,  6,  0,  0],\n",
              "       [ 3,  2,  0,  4],\n",
              "       [ 7,  3,  1, 12]])"
            ]
          },
          "execution_count": 25,
          "metadata": {},
          "output_type": "execute_result"
        }
      ],
      "source": [
        "x2[::-1, ::-1]  # all rows & columns, reversed"
      ]
    },
    {
      "cell_type": "markdown",
      "metadata": {
        "id": "tVLAf5axE8sv"
      },
      "source": [
        "#### Accessing array rows and columns\n",
        "\n",
        "One commonly needed routine is accessing single rows or columns of an array.\n",
        "This can be done by combining indexing and slicing, using an empty slice marked by a single colon (`:`):"
      ]
    },
    {
      "cell_type": "code",
      "execution_count": null,
      "metadata": {
        "jupyter": {
          "outputs_hidden": false
        },
        "id": "eAYRlfrbE8sw",
        "outputId": "7b877bcd-10e5-4db6-f52d-e2edad4ae8bd"
      },
      "outputs": [
        {
          "data": {
            "text/plain": [
              "array([12,  4,  0])"
            ]
          },
          "execution_count": 26,
          "metadata": {},
          "output_type": "execute_result"
        }
      ],
      "source": [
        "x2[:, 0]  # first column of x2"
      ]
    },
    {
      "cell_type": "code",
      "execution_count": null,
      "metadata": {
        "jupyter": {
          "outputs_hidden": false
        },
        "id": "Av_Ek9bJE8sw",
        "outputId": "61bc65ba-7d33-47be-d5e7-65090542dd2f"
      },
      "outputs": [
        {
          "data": {
            "text/plain": [
              "array([12,  1,  3,  7])"
            ]
          },
          "execution_count": 27,
          "metadata": {},
          "output_type": "execute_result"
        }
      ],
      "source": [
        "x2[0, :]  # first row of x2"
      ]
    },
    {
      "cell_type": "markdown",
      "metadata": {
        "id": "nIK2PL6oE8sx"
      },
      "source": [
        "In the case of row access, the empty slice can be omitted for a more compact syntax:"
      ]
    },
    {
      "cell_type": "code",
      "execution_count": null,
      "metadata": {
        "jupyter": {
          "outputs_hidden": false
        },
        "id": "0dGvvgk_E8sx",
        "outputId": "977bcdab-cd7e-49fb-eb11-af86d66b1e75"
      },
      "outputs": [
        {
          "data": {
            "text/plain": [
              "array([12,  1,  3,  7])"
            ]
          },
          "execution_count": 28,
          "metadata": {},
          "output_type": "execute_result"
        }
      ],
      "source": [
        "x2[0]  # equivalent to x2[0, :]"
      ]
    },
    {
      "cell_type": "markdown",
      "metadata": {
        "id": "E45poHnTE8sx"
      },
      "source": [
        "### Subarrays as No-Copy Views\n",
        "\n",
        "Unlike Python list slices, NumPy array slices are returned as *views* rather than *copies* of the array data.\n",
        "Consider our two-dimensional array from before:"
      ]
    },
    {
      "cell_type": "code",
      "execution_count": null,
      "metadata": {
        "jupyter": {
          "outputs_hidden": false
        },
        "id": "UD7DMs2VE8sx",
        "outputId": "9f21ac88-c01b-4047-8b35-5f519d3b23fd"
      },
      "outputs": [
        {
          "name": "stdout",
          "output_type": "stream",
          "text": [
            "[[12  1  3  7]\n",
            " [ 4  0  2  3]\n",
            " [ 0  0  6  9]]\n"
          ]
        }
      ],
      "source": [
        "print(x2)"
      ]
    },
    {
      "cell_type": "markdown",
      "metadata": {
        "id": "KADFev7cE8sy"
      },
      "source": [
        "Let's extract a $2 \\times 2$ subarray from this:"
      ]
    },
    {
      "cell_type": "code",
      "execution_count": null,
      "metadata": {
        "jupyter": {
          "outputs_hidden": false
        },
        "id": "nuQChEhyE8sy",
        "outputId": "e9188453-3f11-4ef8-e87c-b8071ac10fc9"
      },
      "outputs": [
        {
          "name": "stdout",
          "output_type": "stream",
          "text": [
            "[[12  1]\n",
            " [ 4  0]]\n"
          ]
        }
      ],
      "source": [
        "x2_sub = x2[:2, :2]\n",
        "print(x2_sub)"
      ]
    },
    {
      "cell_type": "markdown",
      "metadata": {
        "id": "U-ZlfGpHE8sz"
      },
      "source": [
        "Now if we modify this subarray, we'll see that the original array is changed! Observe:"
      ]
    },
    {
      "cell_type": "code",
      "execution_count": null,
      "metadata": {
        "jupyter": {
          "outputs_hidden": false
        },
        "id": "lcwO2qWUE8sz",
        "outputId": "e643a9e9-7c43-43f5-b7b9-42e60fba18a3"
      },
      "outputs": [
        {
          "name": "stdout",
          "output_type": "stream",
          "text": [
            "[[99  1]\n",
            " [ 4  0]]\n"
          ]
        }
      ],
      "source": [
        "x2_sub[0, 0] = 99\n",
        "print(x2_sub)"
      ]
    },
    {
      "cell_type": "code",
      "execution_count": null,
      "metadata": {
        "jupyter": {
          "outputs_hidden": false
        },
        "id": "zTJ2BSZzE8sz",
        "outputId": "489021e0-4828-479f-aae4-8eab4ffde66e"
      },
      "outputs": [
        {
          "name": "stdout",
          "output_type": "stream",
          "text": [
            "[[99  1  3  7]\n",
            " [ 4  0  2  3]\n",
            " [ 0  0  6  9]]\n"
          ]
        }
      ],
      "source": [
        "print(x2)"
      ]
    },
    {
      "cell_type": "markdown",
      "metadata": {
        "id": "94S4oXksE8s0"
      },
      "source": [
        "Some users may find this surprising, but it can be advantageous: for example, when working with large datasets, we can access and process pieces of these datasets without the need to copy the underlying data buffer."
      ]
    },
    {
      "cell_type": "markdown",
      "metadata": {
        "id": "QDLoqzu6E8s0"
      },
      "source": [
        "### Creating Copies of Arrays\n",
        "\n",
        "Despite the nice features of array views, it is sometimes useful to instead explicitly copy the data within an array or a subarray. This can be most easily done with the `copy` method:"
      ]
    },
    {
      "cell_type": "code",
      "execution_count": null,
      "metadata": {
        "jupyter": {
          "outputs_hidden": false
        },
        "id": "ZzDbTGqDE8s1",
        "outputId": "29bbd8d4-ffe7-4c2d-934a-7f4df734fdb3"
      },
      "outputs": [
        {
          "name": "stdout",
          "output_type": "stream",
          "text": [
            "[[99  1]\n",
            " [ 4  0]]\n"
          ]
        }
      ],
      "source": [
        "x2_sub_copy = x2[:2, :2].copy()\n",
        "print(x2_sub_copy)"
      ]
    },
    {
      "cell_type": "markdown",
      "metadata": {
        "id": "MPsVpR9kE8s1"
      },
      "source": [
        "If we now modify this subarray, the original array is not touched:"
      ]
    },
    {
      "cell_type": "code",
      "execution_count": null,
      "metadata": {
        "jupyter": {
          "outputs_hidden": false
        },
        "id": "DIislplPE8s1",
        "outputId": "722d7b22-262e-47f9-c464-ee0e0225b63c"
      },
      "outputs": [
        {
          "name": "stdout",
          "output_type": "stream",
          "text": [
            "[[42  1]\n",
            " [ 4  0]]\n"
          ]
        }
      ],
      "source": [
        "x2_sub_copy[0, 0] = 42\n",
        "print(x2_sub_copy)"
      ]
    },
    {
      "cell_type": "code",
      "execution_count": null,
      "metadata": {
        "jupyter": {
          "outputs_hidden": false
        },
        "id": "4FePF6xEE8s2",
        "outputId": "47efef70-1c44-4721-efbd-260be80a5bc3"
      },
      "outputs": [
        {
          "name": "stdout",
          "output_type": "stream",
          "text": [
            "[[99  1  3  7]\n",
            " [ 4  0  2  3]\n",
            " [ 0  0  6  9]]\n"
          ]
        }
      ],
      "source": [
        "print(x2)"
      ]
    },
    {
      "cell_type": "markdown",
      "metadata": {
        "id": "xUSj2mPWE8s2"
      },
      "source": [
        "## Reshaping of Arrays\n",
        "\n",
        "Another useful type of operation is reshaping of arrays, which can be done with the `reshape` method.\n",
        "For example, if you want to put the numbers 1 through 9 in a $3 \\times 3$ grid, you can do the following:"
      ]
    },
    {
      "cell_type": "code",
      "execution_count": null,
      "metadata": {
        "jupyter": {
          "outputs_hidden": false
        },
        "id": "ez4wfrUUE8s2",
        "outputId": "fac62de5-97b1-467d-be98-0b09eabbc894"
      },
      "outputs": [
        {
          "name": "stdout",
          "output_type": "stream",
          "text": [
            "[[1 2 3]\n",
            " [4 5 6]\n",
            " [7 8 9]]\n"
          ]
        }
      ],
      "source": [
        "grid = np.arange(1, 10).reshape(3, 3)\n",
        "print(grid)"
      ]
    },
    {
      "cell_type": "markdown",
      "metadata": {
        "id": "RPbdS6myE8s2"
      },
      "source": [
        "Note that for this to work, the size of the initial array must match the size of the reshaped array, and in most cases the `reshape` method will return a no-copy view of the initial array."
      ]
    },
    {
      "cell_type": "markdown",
      "metadata": {
        "id": "25p03ufDE8s3"
      },
      "source": [
        "A common reshaping operation is converting a one-dimensional array into a two-dimensional row or column matrix:"
      ]
    },
    {
      "cell_type": "code",
      "execution_count": null,
      "metadata": {
        "jupyter": {
          "outputs_hidden": false
        },
        "id": "yDhuegVgE8s3",
        "outputId": "58538391-7762-4ec2-c1f7-acbf9bf38b7c"
      },
      "outputs": [
        {
          "data": {
            "text/plain": [
              "array([[1, 2, 3]])"
            ]
          },
          "execution_count": 37,
          "metadata": {},
          "output_type": "execute_result"
        }
      ],
      "source": [
        "x = np.array([1, 2, 3])\n",
        "x.reshape((1, 3))  # row vector via reshape"
      ]
    },
    {
      "cell_type": "code",
      "execution_count": null,
      "metadata": {
        "id": "7Rapxjl_E8s3",
        "outputId": "26d4f3c1-f96e-4967-ecfd-d148ab3dcd6e"
      },
      "outputs": [
        {
          "data": {
            "text/plain": [
              "array([[1],\n",
              "       [2],\n",
              "       [3]])"
            ]
          },
          "execution_count": 38,
          "metadata": {},
          "output_type": "execute_result"
        }
      ],
      "source": [
        "x.reshape((3, 1))  # column vector via reshape"
      ]
    },
    {
      "cell_type": "markdown",
      "metadata": {
        "id": "JXaw4iOEE8s3"
      },
      "source": [
        "A convenient shorthand for this is to use `np.newaxis` in the slicing syntax:"
      ]
    },
    {
      "cell_type": "code",
      "execution_count": null,
      "metadata": {
        "jupyter": {
          "outputs_hidden": false
        },
        "id": "g8qqp_xAE8s5",
        "outputId": "d549044e-5bf9-4178-e4c5-96da27d6fad1"
      },
      "outputs": [
        {
          "data": {
            "text/plain": [
              "array([[1, 2, 3]])"
            ]
          },
          "execution_count": 39,
          "metadata": {},
          "output_type": "execute_result"
        }
      ],
      "source": [
        "x[np.newaxis, :]  # row vector via newaxis"
      ]
    },
    {
      "cell_type": "code",
      "execution_count": null,
      "metadata": {
        "jupyter": {
          "outputs_hidden": false
        },
        "id": "MjMkTSWfE8s5",
        "outputId": "b5d5ebc7-00b5-428a-a4a4-3495671c2594"
      },
      "outputs": [
        {
          "data": {
            "text/plain": [
              "array([[1],\n",
              "       [2],\n",
              "       [3]])"
            ]
          },
          "execution_count": 40,
          "metadata": {},
          "output_type": "execute_result"
        }
      ],
      "source": [
        "x[:, np.newaxis]  # column vector via newaxis"
      ]
    },
    {
      "cell_type": "markdown",
      "metadata": {
        "id": "UyNdxaFPE8s5"
      },
      "source": [
        "This is a pattern that we will utilize often throughout the remainder of the book."
      ]
    },
    {
      "cell_type": "markdown",
      "metadata": {
        "id": "0O7NI7i9E8s6"
      },
      "source": [
        "## Array Concatenation and Splitting\n",
        "\n",
        "All of the preceding routines worked on single arrays. NumPy also provides tools to combine multiple arrays into one, and to conversely split a single array into multiple arrays."
      ]
    },
    {
      "cell_type": "markdown",
      "metadata": {
        "id": "CDEVZGPnE8s6"
      },
      "source": [
        "### Concatenation of Arrays\n",
        "\n",
        "Concatenation, or joining of two arrays in NumPy, is primarily accomplished using the routines `np.concatenate`, `np.vstack`, and `np.hstack`.\n",
        "`np.concatenate` takes a tuple or list of arrays as its first argument, as you can see here:"
      ]
    },
    {
      "cell_type": "code",
      "execution_count": null,
      "metadata": {
        "jupyter": {
          "outputs_hidden": false
        },
        "id": "nf3r1Ve-E8s_",
        "outputId": "6a2639c5-a2de-41a2-ca94-24f2d300593b"
      },
      "outputs": [
        {
          "data": {
            "text/plain": [
              "array([1, 2, 3, 3, 2, 1])"
            ]
          },
          "execution_count": 41,
          "metadata": {},
          "output_type": "execute_result"
        }
      ],
      "source": [
        "x = np.array([1, 2, 3])\n",
        "y = np.array([3, 2, 1])\n",
        "np.concatenate([x, y])"
      ]
    },
    {
      "cell_type": "markdown",
      "metadata": {
        "id": "vdiElkjcE8tA"
      },
      "source": [
        "You can also concatenate more than two arrays at once:"
      ]
    },
    {
      "cell_type": "code",
      "execution_count": null,
      "metadata": {
        "jupyter": {
          "outputs_hidden": false
        },
        "id": "TrdPVoIuE8tA",
        "outputId": "ab723ba1-b953-44c1-d3d5-9c18deb88ac8"
      },
      "outputs": [
        {
          "name": "stdout",
          "output_type": "stream",
          "text": [
            "[ 1  2  3  3  2  1 99 99 99]\n"
          ]
        }
      ],
      "source": [
        "z = np.array([99, 99, 99])\n",
        "print(np.concatenate([x, y, z]))"
      ]
    },
    {
      "cell_type": "markdown",
      "metadata": {
        "id": "pjSfoVu4E8tA"
      },
      "source": [
        "And it can be used for two-dimensional arrays:"
      ]
    },
    {
      "cell_type": "code",
      "execution_count": null,
      "metadata": {
        "jupyter": {
          "outputs_hidden": false
        },
        "id": "pmwpV4dvE8tA"
      },
      "outputs": [],
      "source": [
        "grid = np.array([[1, 2, 3],\n",
        "                 [4, 5, 6]])"
      ]
    },
    {
      "cell_type": "code",
      "execution_count": null,
      "metadata": {
        "jupyter": {
          "outputs_hidden": false
        },
        "id": "R4BohIYsE8tB",
        "outputId": "4ae00a5f-6511-4b70-a463-c490853bf28a"
      },
      "outputs": [
        {
          "data": {
            "text/plain": [
              "array([[1, 2, 3],\n",
              "       [4, 5, 6],\n",
              "       [1, 2, 3],\n",
              "       [4, 5, 6]])"
            ]
          },
          "execution_count": 44,
          "metadata": {},
          "output_type": "execute_result"
        }
      ],
      "source": [
        "# concatenate along the first axis\n",
        "np.concatenate([grid, grid])"
      ]
    },
    {
      "cell_type": "code",
      "execution_count": null,
      "metadata": {
        "jupyter": {
          "outputs_hidden": false
        },
        "id": "WiQDR2FBE8tB",
        "outputId": "d981fb14-d4a3-4ce8-8423-9ef0869bdba8"
      },
      "outputs": [
        {
          "data": {
            "text/plain": [
              "array([[1, 2, 3, 1, 2, 3],\n",
              "       [4, 5, 6, 4, 5, 6]])"
            ]
          },
          "execution_count": 45,
          "metadata": {},
          "output_type": "execute_result"
        }
      ],
      "source": [
        "# concatenate along the second axis (zero-indexed)\n",
        "np.concatenate([grid, grid], axis=1)"
      ]
    },
    {
      "cell_type": "markdown",
      "metadata": {
        "id": "_V0v5wYJE8tC"
      },
      "source": [
        "For working with arrays of mixed dimensions, it can be clearer to use the `np.vstack` (vertical stack) and `np.hstack` (horizontal stack) functions:"
      ]
    },
    {
      "cell_type": "code",
      "execution_count": null,
      "metadata": {
        "jupyter": {
          "outputs_hidden": false
        },
        "id": "EmrbEVFLE8tC",
        "outputId": "bc520734-5447-4ab3-b3f1-9817bd424f8d"
      },
      "outputs": [
        {
          "data": {
            "text/plain": [
              "array([[1, 2, 3],\n",
              "       [1, 2, 3],\n",
              "       [4, 5, 6]])"
            ]
          },
          "execution_count": 46,
          "metadata": {},
          "output_type": "execute_result"
        }
      ],
      "source": [
        "# vertically stack the arrays\n",
        "np.vstack([x, grid])"
      ]
    },
    {
      "cell_type": "code",
      "execution_count": null,
      "metadata": {
        "jupyter": {
          "outputs_hidden": false
        },
        "id": "7EhZlZyoE8tC",
        "outputId": "2e295265-5127-4f0b-fe78-073c38bbd81b"
      },
      "outputs": [
        {
          "data": {
            "text/plain": [
              "array([[ 1,  2,  3, 99],\n",
              "       [ 4,  5,  6, 99]])"
            ]
          },
          "execution_count": 47,
          "metadata": {},
          "output_type": "execute_result"
        }
      ],
      "source": [
        "# horizontally stack the arrays\n",
        "y = np.array([[99],\n",
        "              [99]])\n",
        "np.hstack([grid, y])"
      ]
    },
    {
      "cell_type": "markdown",
      "metadata": {
        "id": "oumkgEvLE8tD"
      },
      "source": [
        "Similarly, for higher-dimensional arrays, `np.dstack` will stack arrays along the third axis."
      ]
    },
    {
      "cell_type": "markdown",
      "metadata": {
        "id": "n3h3WBPKE8tD"
      },
      "source": [
        "### Splitting of Arrays\n",
        "\n",
        "The opposite of concatenation is splitting, which is implemented by the functions `np.split`, `np.hsplit`, and `np.vsplit`.  For each of these, we can pass a list of indices giving the split points:"
      ]
    },
    {
      "cell_type": "code",
      "execution_count": null,
      "metadata": {
        "jupyter": {
          "outputs_hidden": false
        },
        "id": "r4HcApc4E8tD",
        "outputId": "1bc6035b-bcf2-4384-96bb-c13ec2091578"
      },
      "outputs": [
        {
          "name": "stdout",
          "output_type": "stream",
          "text": [
            "[1 2 3] [99 99] [3 2 1]\n"
          ]
        }
      ],
      "source": [
        "x = [1, 2, 3, 99, 99, 3, 2, 1]\n",
        "x1, x2, x3 = np.split(x, [3, 5])\n",
        "print(x1, x2, x3)"
      ]
    },
    {
      "cell_type": "markdown",
      "metadata": {
        "id": "MM_3kuyzE8tE"
      },
      "source": [
        "Notice that *N* split points leads to *N* + 1 subarrays.\n",
        "The related functions `np.hsplit` and `np.vsplit` are similar:"
      ]
    },
    {
      "cell_type": "code",
      "execution_count": null,
      "metadata": {
        "jupyter": {
          "outputs_hidden": false
        },
        "id": "OPryncFME8tE",
        "outputId": "cf705cc5-3e15-4926-922a-45db88978630"
      },
      "outputs": [
        {
          "data": {
            "text/plain": [
              "array([[ 0,  1,  2,  3],\n",
              "       [ 4,  5,  6,  7],\n",
              "       [ 8,  9, 10, 11],\n",
              "       [12, 13, 14, 15]])"
            ]
          },
          "execution_count": 49,
          "metadata": {},
          "output_type": "execute_result"
        }
      ],
      "source": [
        "grid = np.arange(16).reshape((4, 4))\n",
        "grid"
      ]
    },
    {
      "cell_type": "code",
      "execution_count": null,
      "metadata": {
        "jupyter": {
          "outputs_hidden": false
        },
        "id": "QhXtdZUCE8tE",
        "outputId": "667585e6-d1df-4b8c-fb27-690319e63b52"
      },
      "outputs": [
        {
          "name": "stdout",
          "output_type": "stream",
          "text": [
            "[[0 1 2 3]\n",
            " [4 5 6 7]]\n",
            "[[ 8  9 10 11]\n",
            " [12 13 14 15]]\n"
          ]
        }
      ],
      "source": [
        "upper, lower = np.vsplit(grid, [2])\n",
        "print(upper)\n",
        "print(lower)"
      ]
    },
    {
      "cell_type": "code",
      "execution_count": null,
      "metadata": {
        "jupyter": {
          "outputs_hidden": false
        },
        "id": "JEgQjelKE8tE",
        "outputId": "fbf354d7-2980-4032-fa63-557c1c5302cc"
      },
      "outputs": [
        {
          "name": "stdout",
          "output_type": "stream",
          "text": [
            "[[ 0  1]\n",
            " [ 4  5]\n",
            " [ 8  9]\n",
            " [12 13]]\n",
            "[[ 2  3]\n",
            " [ 6  7]\n",
            " [10 11]\n",
            " [14 15]]\n"
          ]
        }
      ],
      "source": [
        "left, right = np.hsplit(grid, [2])\n",
        "print(left)\n",
        "print(right)"
      ]
    },
    {
      "cell_type": "markdown",
      "metadata": {
        "id": "ZtQOuJeME8tF"
      },
      "source": [
        "Similarly, for higher-dimensional arrays, `np.dsplit` will split arrays along the third axis."
      ]
    }
  ],
  "metadata": {
    "anaconda-cloud": {},
    "jupytext": {
      "formats": "ipynb,md"
    },
    "kernelspec": {
      "display_name": "Python 3",
      "language": "python",
      "name": "python3"
    },
    "language_info": {
      "codemirror_mode": {
        "name": "ipython",
        "version": 3
      },
      "file_extension": ".py",
      "mimetype": "text/x-python",
      "name": "python",
      "nbconvert_exporter": "python",
      "pygments_lexer": "ipython3",
      "version": "3.9.2"
    },
    "colab": {
      "provenance": []
    }
  },
  "nbformat": 4,
  "nbformat_minor": 0
}